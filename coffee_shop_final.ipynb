{
 "cells": [
  {
   "cell_type": "code",
   "execution_count": 1,
   "id": "2f103744-be81-47f0-9a62-e8f1bec688a0",
   "metadata": {
    "tags": []
   },
   "outputs": [],
   "source": [
    "import numpy as np\n",
    "import pandas as pd\n",
    "import matplotlib.pyplot as plt\n",
    "import seaborn as sns\n",
    "import statsmodels.api as sm\n",
    "import warnings\n",
    "warnings.filterwarnings('ignore')\n",
    "\n",
    "\n",
    "import acquire\n",
    "\n",
    "from datetime import timedelta, datetime\n",
    "from sklearn.model_selection import TimeSeriesSplit\n",
    "\n",
    "# evaluate\n",
    "from sklearn.metrics import mean_squared_error\n",
    "from math import sqrt \n",
    "\n",
    "# modeling\n",
    "import statsmodels.api as sm\n",
    "from statsmodels.tsa.api import Holt, ExponentialSmoothing"
   ]
  },
  {
   "cell_type": "code",
   "execution_count": 2,
   "id": "23d5bd7e-26dd-442e-83b4-504f8f0db69f",
   "metadata": {
    "tags": []
   },
   "outputs": [
    {
     "data": {
      "text/html": [
       "<div>\n",
       "<style scoped>\n",
       "    .dataframe tbody tr th:only-of-type {\n",
       "        vertical-align: middle;\n",
       "    }\n",
       "\n",
       "    .dataframe tbody tr th {\n",
       "        vertical-align: top;\n",
       "    }\n",
       "\n",
       "    .dataframe thead th {\n",
       "        text-align: right;\n",
       "    }\n",
       "</style>\n",
       "<table border=\"1\" class=\"dataframe\">\n",
       "  <thead>\n",
       "    <tr style=\"text-align: right;\">\n",
       "      <th></th>\n",
       "      <th>transaction_id</th>\n",
       "      <th>transaction_date</th>\n",
       "      <th>transaction_time</th>\n",
       "      <th>transaction_qty</th>\n",
       "      <th>store_id</th>\n",
       "      <th>store_location</th>\n",
       "      <th>product_id</th>\n",
       "      <th>unit_price</th>\n",
       "      <th>product_category</th>\n",
       "      <th>product_type</th>\n",
       "      <th>product_detail</th>\n",
       "    </tr>\n",
       "  </thead>\n",
       "  <tbody>\n",
       "    <tr>\n",
       "      <th>0</th>\n",
       "      <td>1</td>\n",
       "      <td>1/1/23</td>\n",
       "      <td>7:06:11</td>\n",
       "      <td>2</td>\n",
       "      <td>5</td>\n",
       "      <td>Lower Manhattan</td>\n",
       "      <td>32</td>\n",
       "      <td>3.0</td>\n",
       "      <td>Coffee</td>\n",
       "      <td>Gourmet brewed coffee</td>\n",
       "      <td>Ethiopia Rg</td>\n",
       "    </tr>\n",
       "    <tr>\n",
       "      <th>1</th>\n",
       "      <td>2</td>\n",
       "      <td>1/1/23</td>\n",
       "      <td>7:08:56</td>\n",
       "      <td>2</td>\n",
       "      <td>5</td>\n",
       "      <td>Lower Manhattan</td>\n",
       "      <td>57</td>\n",
       "      <td>3.1</td>\n",
       "      <td>Tea</td>\n",
       "      <td>Brewed Chai tea</td>\n",
       "      <td>Spicy Eye Opener Chai Lg</td>\n",
       "    </tr>\n",
       "    <tr>\n",
       "      <th>2</th>\n",
       "      <td>3</td>\n",
       "      <td>1/1/23</td>\n",
       "      <td>7:14:04</td>\n",
       "      <td>2</td>\n",
       "      <td>5</td>\n",
       "      <td>Lower Manhattan</td>\n",
       "      <td>59</td>\n",
       "      <td>4.5</td>\n",
       "      <td>Drinking Chocolate</td>\n",
       "      <td>Hot chocolate</td>\n",
       "      <td>Dark chocolate Lg</td>\n",
       "    </tr>\n",
       "    <tr>\n",
       "      <th>3</th>\n",
       "      <td>4</td>\n",
       "      <td>1/1/23</td>\n",
       "      <td>7:20:24</td>\n",
       "      <td>1</td>\n",
       "      <td>5</td>\n",
       "      <td>Lower Manhattan</td>\n",
       "      <td>22</td>\n",
       "      <td>2.0</td>\n",
       "      <td>Coffee</td>\n",
       "      <td>Drip coffee</td>\n",
       "      <td>Our Old Time Diner Blend Sm</td>\n",
       "    </tr>\n",
       "    <tr>\n",
       "      <th>4</th>\n",
       "      <td>5</td>\n",
       "      <td>1/1/23</td>\n",
       "      <td>7:22:41</td>\n",
       "      <td>2</td>\n",
       "      <td>5</td>\n",
       "      <td>Lower Manhattan</td>\n",
       "      <td>57</td>\n",
       "      <td>3.1</td>\n",
       "      <td>Tea</td>\n",
       "      <td>Brewed Chai tea</td>\n",
       "      <td>Spicy Eye Opener Chai Lg</td>\n",
       "    </tr>\n",
       "  </tbody>\n",
       "</table>\n",
       "</div>"
      ],
      "text/plain": [
       "   transaction_id transaction_date transaction_time  transaction_qty  \\\n",
       "0               1           1/1/23          7:06:11                2   \n",
       "1               2           1/1/23          7:08:56                2   \n",
       "2               3           1/1/23          7:14:04                2   \n",
       "3               4           1/1/23          7:20:24                1   \n",
       "4               5           1/1/23          7:22:41                2   \n",
       "\n",
       "   store_id   store_location  product_id  unit_price    product_category  \\\n",
       "0         5  Lower Manhattan          32         3.0              Coffee   \n",
       "1         5  Lower Manhattan          57         3.1                 Tea   \n",
       "2         5  Lower Manhattan          59         4.5  Drinking Chocolate   \n",
       "3         5  Lower Manhattan          22         2.0              Coffee   \n",
       "4         5  Lower Manhattan          57         3.1                 Tea   \n",
       "\n",
       "            product_type               product_detail  \n",
       "0  Gourmet brewed coffee                  Ethiopia Rg  \n",
       "1        Brewed Chai tea     Spicy Eye Opener Chai Lg  \n",
       "2          Hot chocolate            Dark chocolate Lg  \n",
       "3            Drip coffee  Our Old Time Diner Blend Sm  \n",
       "4        Brewed Chai tea     Spicy Eye Opener Chai Lg  "
      ]
     },
     "execution_count": 2,
     "metadata": {},
     "output_type": "execute_result"
    }
   ],
   "source": [
    "# ACQUIRE DATA\n",
    "\n",
    "data = acquire.get_coffee()\n",
    "data.head()"
   ]
  },
  {
   "cell_type": "code",
   "execution_count": 3,
   "id": "149a6862-f55b-458a-aa84-17e6a6517933",
   "metadata": {},
   "outputs": [
    {
     "data": {
      "text/html": [
       "<div>\n",
       "<style scoped>\n",
       "    .dataframe tbody tr th:only-of-type {\n",
       "        vertical-align: middle;\n",
       "    }\n",
       "\n",
       "    .dataframe tbody tr th {\n",
       "        vertical-align: top;\n",
       "    }\n",
       "\n",
       "    .dataframe thead th {\n",
       "        text-align: right;\n",
       "    }\n",
       "</style>\n",
       "<table border=\"1\" class=\"dataframe\">\n",
       "  <thead>\n",
       "    <tr style=\"text-align: right;\">\n",
       "      <th></th>\n",
       "      <th>transaction_id</th>\n",
       "      <th>transaction_date</th>\n",
       "      <th>transaction_time</th>\n",
       "      <th>transaction_qty</th>\n",
       "      <th>store_id</th>\n",
       "      <th>store_location</th>\n",
       "      <th>product_id</th>\n",
       "      <th>unit_price</th>\n",
       "      <th>product_category</th>\n",
       "      <th>product_type</th>\n",
       "      <th>product_detail</th>\n",
       "    </tr>\n",
       "    <tr>\n",
       "      <th>transaction_date_time</th>\n",
       "      <th></th>\n",
       "      <th></th>\n",
       "      <th></th>\n",
       "      <th></th>\n",
       "      <th></th>\n",
       "      <th></th>\n",
       "      <th></th>\n",
       "      <th></th>\n",
       "      <th></th>\n",
       "      <th></th>\n",
       "      <th></th>\n",
       "    </tr>\n",
       "  </thead>\n",
       "  <tbody>\n",
       "    <tr>\n",
       "      <th>2023-01-01 07:06:11</th>\n",
       "      <td>1</td>\n",
       "      <td>1/1/23</td>\n",
       "      <td>7:06:11</td>\n",
       "      <td>2</td>\n",
       "      <td>5</td>\n",
       "      <td>Lower Manhattan</td>\n",
       "      <td>32</td>\n",
       "      <td>3.0</td>\n",
       "      <td>Coffee</td>\n",
       "      <td>Gourmet brewed coffee</td>\n",
       "      <td>Ethiopia Rg</td>\n",
       "    </tr>\n",
       "    <tr>\n",
       "      <th>2023-01-01 07:08:56</th>\n",
       "      <td>2</td>\n",
       "      <td>1/1/23</td>\n",
       "      <td>7:08:56</td>\n",
       "      <td>2</td>\n",
       "      <td>5</td>\n",
       "      <td>Lower Manhattan</td>\n",
       "      <td>57</td>\n",
       "      <td>3.1</td>\n",
       "      <td>Tea</td>\n",
       "      <td>Brewed Chai tea</td>\n",
       "      <td>Spicy Eye Opener Chai Lg</td>\n",
       "    </tr>\n",
       "    <tr>\n",
       "      <th>2023-01-01 07:14:04</th>\n",
       "      <td>3</td>\n",
       "      <td>1/1/23</td>\n",
       "      <td>7:14:04</td>\n",
       "      <td>2</td>\n",
       "      <td>5</td>\n",
       "      <td>Lower Manhattan</td>\n",
       "      <td>59</td>\n",
       "      <td>4.5</td>\n",
       "      <td>Drinking Chocolate</td>\n",
       "      <td>Hot chocolate</td>\n",
       "      <td>Dark chocolate Lg</td>\n",
       "    </tr>\n",
       "    <tr>\n",
       "      <th>2023-01-01 07:20:24</th>\n",
       "      <td>4</td>\n",
       "      <td>1/1/23</td>\n",
       "      <td>7:20:24</td>\n",
       "      <td>1</td>\n",
       "      <td>5</td>\n",
       "      <td>Lower Manhattan</td>\n",
       "      <td>22</td>\n",
       "      <td>2.0</td>\n",
       "      <td>Coffee</td>\n",
       "      <td>Drip coffee</td>\n",
       "      <td>Our Old Time Diner Blend Sm</td>\n",
       "    </tr>\n",
       "    <tr>\n",
       "      <th>2023-01-01 07:22:41</th>\n",
       "      <td>5</td>\n",
       "      <td>1/1/23</td>\n",
       "      <td>7:22:41</td>\n",
       "      <td>2</td>\n",
       "      <td>5</td>\n",
       "      <td>Lower Manhattan</td>\n",
       "      <td>57</td>\n",
       "      <td>3.1</td>\n",
       "      <td>Tea</td>\n",
       "      <td>Brewed Chai tea</td>\n",
       "      <td>Spicy Eye Opener Chai Lg</td>\n",
       "    </tr>\n",
       "  </tbody>\n",
       "</table>\n",
       "</div>"
      ],
      "text/plain": [
       "                       transaction_id transaction_date transaction_time  \\\n",
       "transaction_date_time                                                     \n",
       "2023-01-01 07:06:11                 1           1/1/23          7:06:11   \n",
       "2023-01-01 07:08:56                 2           1/1/23          7:08:56   \n",
       "2023-01-01 07:14:04                 3           1/1/23          7:14:04   \n",
       "2023-01-01 07:20:24                 4           1/1/23          7:20:24   \n",
       "2023-01-01 07:22:41                 5           1/1/23          7:22:41   \n",
       "\n",
       "                       transaction_qty  store_id   store_location  product_id  \\\n",
       "transaction_date_time                                                           \n",
       "2023-01-01 07:06:11                  2         5  Lower Manhattan          32   \n",
       "2023-01-01 07:08:56                  2         5  Lower Manhattan          57   \n",
       "2023-01-01 07:14:04                  2         5  Lower Manhattan          59   \n",
       "2023-01-01 07:20:24                  1         5  Lower Manhattan          22   \n",
       "2023-01-01 07:22:41                  2         5  Lower Manhattan          57   \n",
       "\n",
       "                       unit_price    product_category           product_type  \\\n",
       "transaction_date_time                                                          \n",
       "2023-01-01 07:06:11           3.0              Coffee  Gourmet brewed coffee   \n",
       "2023-01-01 07:08:56           3.1                 Tea        Brewed Chai tea   \n",
       "2023-01-01 07:14:04           4.5  Drinking Chocolate          Hot chocolate   \n",
       "2023-01-01 07:20:24           2.0              Coffee            Drip coffee   \n",
       "2023-01-01 07:22:41           3.1                 Tea        Brewed Chai tea   \n",
       "\n",
       "                                    product_detail  \n",
       "transaction_date_time                               \n",
       "2023-01-01 07:06:11                    Ethiopia Rg  \n",
       "2023-01-01 07:08:56       Spicy Eye Opener Chai Lg  \n",
       "2023-01-01 07:14:04              Dark chocolate Lg  \n",
       "2023-01-01 07:20:24    Our Old Time Diner Blend Sm  \n",
       "2023-01-01 07:22:41       Spicy Eye Opener Chai Lg  "
      ]
     },
     "execution_count": 3,
     "metadata": {},
     "output_type": "execute_result"
    }
   ],
   "source": [
    "# PREPARE DATA\n",
    "\n",
    "# Set index\n",
    "data = acquire.set_index(data)\n",
    "data.head()"
   ]
  },
  {
   "cell_type": "code",
   "execution_count": 4,
   "id": "4a91dcd9-355c-4115-91a9-f99e50239fb3",
   "metadata": {
    "tags": []
   },
   "outputs": [
    {
     "data": {
      "text/html": [
       "<div>\n",
       "<style scoped>\n",
       "    .dataframe tbody tr th:only-of-type {\n",
       "        vertical-align: middle;\n",
       "    }\n",
       "\n",
       "    .dataframe tbody tr th {\n",
       "        vertical-align: top;\n",
       "    }\n",
       "\n",
       "    .dataframe thead th {\n",
       "        text-align: right;\n",
       "    }\n",
       "</style>\n",
       "<table border=\"1\" class=\"dataframe\">\n",
       "  <thead>\n",
       "    <tr style=\"text-align: right;\">\n",
       "      <th></th>\n",
       "      <th>transaction_qty</th>\n",
       "      <th>store_id</th>\n",
       "      <th>store_location</th>\n",
       "      <th>product_id</th>\n",
       "      <th>unit_price</th>\n",
       "      <th>product_category</th>\n",
       "      <th>product_type</th>\n",
       "      <th>product_detail</th>\n",
       "      <th>transaction_total</th>\n",
       "      <th>month</th>\n",
       "      <th>day</th>\n",
       "      <th>hour</th>\n",
       "    </tr>\n",
       "    <tr>\n",
       "      <th>transaction_date_time</th>\n",
       "      <th></th>\n",
       "      <th></th>\n",
       "      <th></th>\n",
       "      <th></th>\n",
       "      <th></th>\n",
       "      <th></th>\n",
       "      <th></th>\n",
       "      <th></th>\n",
       "      <th></th>\n",
       "      <th></th>\n",
       "      <th></th>\n",
       "      <th></th>\n",
       "    </tr>\n",
       "  </thead>\n",
       "  <tbody>\n",
       "    <tr>\n",
       "      <th>2023-01-01 07:06:11</th>\n",
       "      <td>2</td>\n",
       "      <td>5</td>\n",
       "      <td>Lower Manhattan</td>\n",
       "      <td>32</td>\n",
       "      <td>3.00</td>\n",
       "      <td>Coffee</td>\n",
       "      <td>Gourmet brewed coffee</td>\n",
       "      <td>Ethiopia Rg</td>\n",
       "      <td>6.00</td>\n",
       "      <td>January</td>\n",
       "      <td>Sunday</td>\n",
       "      <td>7</td>\n",
       "    </tr>\n",
       "    <tr>\n",
       "      <th>2023-01-01 07:08:56</th>\n",
       "      <td>2</td>\n",
       "      <td>5</td>\n",
       "      <td>Lower Manhattan</td>\n",
       "      <td>57</td>\n",
       "      <td>3.10</td>\n",
       "      <td>Tea</td>\n",
       "      <td>Brewed Chai tea</td>\n",
       "      <td>Spicy Eye Opener Chai Lg</td>\n",
       "      <td>6.20</td>\n",
       "      <td>January</td>\n",
       "      <td>Sunday</td>\n",
       "      <td>7</td>\n",
       "    </tr>\n",
       "    <tr>\n",
       "      <th>2023-01-01 07:14:04</th>\n",
       "      <td>2</td>\n",
       "      <td>5</td>\n",
       "      <td>Lower Manhattan</td>\n",
       "      <td>59</td>\n",
       "      <td>4.50</td>\n",
       "      <td>Drinking Chocolate</td>\n",
       "      <td>Hot chocolate</td>\n",
       "      <td>Dark chocolate Lg</td>\n",
       "      <td>9.00</td>\n",
       "      <td>January</td>\n",
       "      <td>Sunday</td>\n",
       "      <td>7</td>\n",
       "    </tr>\n",
       "    <tr>\n",
       "      <th>2023-01-01 07:20:24</th>\n",
       "      <td>1</td>\n",
       "      <td>5</td>\n",
       "      <td>Lower Manhattan</td>\n",
       "      <td>22</td>\n",
       "      <td>2.00</td>\n",
       "      <td>Coffee</td>\n",
       "      <td>Drip coffee</td>\n",
       "      <td>Our Old Time Diner Blend Sm</td>\n",
       "      <td>2.00</td>\n",
       "      <td>January</td>\n",
       "      <td>Sunday</td>\n",
       "      <td>7</td>\n",
       "    </tr>\n",
       "    <tr>\n",
       "      <th>2023-01-01 07:22:41</th>\n",
       "      <td>2</td>\n",
       "      <td>5</td>\n",
       "      <td>Lower Manhattan</td>\n",
       "      <td>57</td>\n",
       "      <td>3.10</td>\n",
       "      <td>Tea</td>\n",
       "      <td>Brewed Chai tea</td>\n",
       "      <td>Spicy Eye Opener Chai Lg</td>\n",
       "      <td>6.20</td>\n",
       "      <td>January</td>\n",
       "      <td>Sunday</td>\n",
       "      <td>7</td>\n",
       "    </tr>\n",
       "    <tr>\n",
       "      <th>...</th>\n",
       "      <td>...</td>\n",
       "      <td>...</td>\n",
       "      <td>...</td>\n",
       "      <td>...</td>\n",
       "      <td>...</td>\n",
       "      <td>...</td>\n",
       "      <td>...</td>\n",
       "      <td>...</td>\n",
       "      <td>...</td>\n",
       "      <td>...</td>\n",
       "      <td>...</td>\n",
       "      <td>...</td>\n",
       "    </tr>\n",
       "    <tr>\n",
       "      <th>2023-06-30 20:18:41</th>\n",
       "      <td>2</td>\n",
       "      <td>8</td>\n",
       "      <td>Hell's Kitchen</td>\n",
       "      <td>44</td>\n",
       "      <td>2.50</td>\n",
       "      <td>Tea</td>\n",
       "      <td>Brewed herbal tea</td>\n",
       "      <td>Peppermint Rg</td>\n",
       "      <td>5.00</td>\n",
       "      <td>June</td>\n",
       "      <td>Friday</td>\n",
       "      <td>20</td>\n",
       "    </tr>\n",
       "    <tr>\n",
       "      <th>2023-06-30 20:25:10</th>\n",
       "      <td>2</td>\n",
       "      <td>8</td>\n",
       "      <td>Hell's Kitchen</td>\n",
       "      <td>49</td>\n",
       "      <td>3.00</td>\n",
       "      <td>Tea</td>\n",
       "      <td>Brewed Black tea</td>\n",
       "      <td>English Breakfast Lg</td>\n",
       "      <td>6.00</td>\n",
       "      <td>June</td>\n",
       "      <td>Friday</td>\n",
       "      <td>20</td>\n",
       "    </tr>\n",
       "    <tr>\n",
       "      <th>2023-06-30 20:31:34</th>\n",
       "      <td>1</td>\n",
       "      <td>8</td>\n",
       "      <td>Hell's Kitchen</td>\n",
       "      <td>45</td>\n",
       "      <td>3.00</td>\n",
       "      <td>Tea</td>\n",
       "      <td>Brewed herbal tea</td>\n",
       "      <td>Peppermint Lg</td>\n",
       "      <td>3.00</td>\n",
       "      <td>June</td>\n",
       "      <td>Friday</td>\n",
       "      <td>20</td>\n",
       "    </tr>\n",
       "    <tr>\n",
       "      <th>2023-06-30 20:57:19</th>\n",
       "      <td>1</td>\n",
       "      <td>8</td>\n",
       "      <td>Hell's Kitchen</td>\n",
       "      <td>40</td>\n",
       "      <td>3.75</td>\n",
       "      <td>Coffee</td>\n",
       "      <td>Barista Espresso</td>\n",
       "      <td>Cappuccino</td>\n",
       "      <td>3.75</td>\n",
       "      <td>June</td>\n",
       "      <td>Friday</td>\n",
       "      <td>20</td>\n",
       "    </tr>\n",
       "    <tr>\n",
       "      <th>2023-06-30 20:57:19</th>\n",
       "      <td>2</td>\n",
       "      <td>8</td>\n",
       "      <td>Hell's Kitchen</td>\n",
       "      <td>64</td>\n",
       "      <td>0.80</td>\n",
       "      <td>Flavours</td>\n",
       "      <td>Regular syrup</td>\n",
       "      <td>Hazelnut syrup</td>\n",
       "      <td>1.60</td>\n",
       "      <td>June</td>\n",
       "      <td>Friday</td>\n",
       "      <td>20</td>\n",
       "    </tr>\n",
       "  </tbody>\n",
       "</table>\n",
       "<p>148104 rows × 12 columns</p>\n",
       "</div>"
      ],
      "text/plain": [
       "                       transaction_qty  store_id   store_location  product_id  \\\n",
       "transaction_date_time                                                           \n",
       "2023-01-01 07:06:11                  2         5  Lower Manhattan          32   \n",
       "2023-01-01 07:08:56                  2         5  Lower Manhattan          57   \n",
       "2023-01-01 07:14:04                  2         5  Lower Manhattan          59   \n",
       "2023-01-01 07:20:24                  1         5  Lower Manhattan          22   \n",
       "2023-01-01 07:22:41                  2         5  Lower Manhattan          57   \n",
       "...                                ...       ...              ...         ...   \n",
       "2023-06-30 20:18:41                  2         8   Hell's Kitchen          44   \n",
       "2023-06-30 20:25:10                  2         8   Hell's Kitchen          49   \n",
       "2023-06-30 20:31:34                  1         8   Hell's Kitchen          45   \n",
       "2023-06-30 20:57:19                  1         8   Hell's Kitchen          40   \n",
       "2023-06-30 20:57:19                  2         8   Hell's Kitchen          64   \n",
       "\n",
       "                       unit_price    product_category           product_type  \\\n",
       "transaction_date_time                                                          \n",
       "2023-01-01 07:06:11          3.00              Coffee  Gourmet brewed coffee   \n",
       "2023-01-01 07:08:56          3.10                 Tea        Brewed Chai tea   \n",
       "2023-01-01 07:14:04          4.50  Drinking Chocolate          Hot chocolate   \n",
       "2023-01-01 07:20:24          2.00              Coffee            Drip coffee   \n",
       "2023-01-01 07:22:41          3.10                 Tea        Brewed Chai tea   \n",
       "...                           ...                 ...                    ...   \n",
       "2023-06-30 20:18:41          2.50                 Tea      Brewed herbal tea   \n",
       "2023-06-30 20:25:10          3.00                 Tea       Brewed Black tea   \n",
       "2023-06-30 20:31:34          3.00                 Tea      Brewed herbal tea   \n",
       "2023-06-30 20:57:19          3.75              Coffee       Barista Espresso   \n",
       "2023-06-30 20:57:19          0.80            Flavours          Regular syrup   \n",
       "\n",
       "                                    product_detail  transaction_total  \\\n",
       "transaction_date_time                                                   \n",
       "2023-01-01 07:06:11                    Ethiopia Rg               6.00   \n",
       "2023-01-01 07:08:56       Spicy Eye Opener Chai Lg               6.20   \n",
       "2023-01-01 07:14:04              Dark chocolate Lg               9.00   \n",
       "2023-01-01 07:20:24    Our Old Time Diner Blend Sm               2.00   \n",
       "2023-01-01 07:22:41       Spicy Eye Opener Chai Lg               6.20   \n",
       "...                                            ...                ...   \n",
       "2023-06-30 20:18:41                  Peppermint Rg               5.00   \n",
       "2023-06-30 20:25:10           English Breakfast Lg               6.00   \n",
       "2023-06-30 20:31:34                  Peppermint Lg               3.00   \n",
       "2023-06-30 20:57:19                     Cappuccino               3.75   \n",
       "2023-06-30 20:57:19                 Hazelnut syrup               1.60   \n",
       "\n",
       "                         month     day  hour  \n",
       "transaction_date_time                         \n",
       "2023-01-01 07:06:11    January  Sunday     7  \n",
       "2023-01-01 07:08:56    January  Sunday     7  \n",
       "2023-01-01 07:14:04    January  Sunday     7  \n",
       "2023-01-01 07:20:24    January  Sunday     7  \n",
       "2023-01-01 07:22:41    January  Sunday     7  \n",
       "...                        ...     ...   ...  \n",
       "2023-06-30 20:18:41       June  Friday    20  \n",
       "2023-06-30 20:25:10       June  Friday    20  \n",
       "2023-06-30 20:31:34       June  Friday    20  \n",
       "2023-06-30 20:57:19       June  Friday    20  \n",
       "2023-06-30 20:57:19       June  Friday    20  \n",
       "\n",
       "[148104 rows x 12 columns]"
      ]
     },
     "execution_count": 4,
     "metadata": {},
     "output_type": "execute_result"
    }
   ],
   "source": [
    "# Add and delete columns, remove outliers\n",
    "\n",
    "data = acquire.prep_coffee(data)\n",
    "data"
   ]
  },
  {
   "cell_type": "code",
   "execution_count": 5,
   "id": "91382100-0c6d-4bf0-b65e-a6a668a49b3e",
   "metadata": {
    "tags": []
   },
   "outputs": [
    {
     "data": {
      "text/plain": [
       "(148104, 12)"
      ]
     },
     "execution_count": 5,
     "metadata": {},
     "output_type": "execute_result"
    }
   ],
   "source": [
    "data.shape"
   ]
  },
  {
   "cell_type": "code",
   "execution_count": 6,
   "id": "172f88d6-0783-4634-8f50-589b0a0ae9a4",
   "metadata": {},
   "outputs": [],
   "source": [
    "# Split data"
   ]
  },
  {
   "cell_type": "code",
   "execution_count": 7,
   "id": "3ea71a7a-90cd-47c7-84c8-03aaa7648624",
   "metadata": {
    "tags": []
   },
   "outputs": [],
   "source": [
    "train_size = .70\n",
    "n = data.shape[0]\n",
    "test_start_index = round(train_size * n)"
   ]
  },
  {
   "cell_type": "code",
   "execution_count": 8,
   "id": "c684fc53-baf1-42e3-bb67-1ed47dca0609",
   "metadata": {
    "tags": []
   },
   "outputs": [
    {
     "data": {
      "text/plain": [
       "((103673, 12), (44431, 12))"
      ]
     },
     "execution_count": 8,
     "metadata": {},
     "output_type": "execute_result"
    }
   ],
   "source": [
    "train = data[:test_start_index] # everything up (not including) to the test_start_index\n",
    "test = data[test_start_index:] # everything from the test_start_index to the end\n",
    "train.shape, test.shape"
   ]
  },
  {
   "cell_type": "code",
   "execution_count": 9,
   "id": "33bc3474-5cfd-4358-bab4-76b5ea6807e6",
   "metadata": {
    "tags": []
   },
   "outputs": [
    {
     "data": {
      "text/plain": [
       "[<matplotlib.lines.Line2D at 0x1546f5fd0>]"
      ]
     },
     "execution_count": 9,
     "metadata": {},
     "output_type": "execute_result"
    },
    {
     "data": {
      "image/png": "[encoded data removed]",
      "text/plain": [
       "<Figure size 640x480 with 1 Axes>"
      ]
     },
     "metadata": {},
     "output_type": "display_data"
    }
   ],
   "source": [
    "plt.plot(train.index, train.transaction_total)\n",
    "plt.plot(test.index, test.transaction_total)"
   ]
  },
  {
   "cell_type": "code",
   "execution_count": 10,
   "id": "790c2989-154b-4fae-bb5d-acadac684537",
   "metadata": {},
   "outputs": [],
   "source": [
    "# Define and plot target variable"
   ]
  },
  {
   "cell_type": "code",
   "execution_count": 11,
   "id": "cd9132c3-db1e-49e5-9ceb-d773525a7c01",
   "metadata": {
    "tags": []
   },
   "outputs": [
    {
     "data": {
      "text/plain": [
       "<Axes: ylabel='Frequency'>"
      ]
     },
     "execution_count": 11,
     "metadata": {},
     "output_type": "execute_result"
    },
    {
     "data": {
      "image/png": "[encoded data removed]",
      "text/plain": [
       "<Figure size 640x480 with 1 Axes>"
      ]
     },
     "metadata": {},
     "output_type": "display_data"
    }
   ],
   "source": [
    "y = train.transaction_total\n",
    "y.plot.hist()"
   ]
  },
  {
   "cell_type": "code",
   "execution_count": 12,
   "id": "4366f600-1907-48e5-87e7-5a4f332420ad",
   "metadata": {
    "tags": []
   },
   "outputs": [
    {
     "data": {
      "text/plain": [
       "19.75"
      ]
     },
     "execution_count": 12,
     "metadata": {},
     "output_type": "execute_result"
    }
   ],
   "source": [
    "train.transaction_total.max()"
   ]
  },
  {
   "cell_type": "code",
   "execution_count": 13,
   "id": "526603f4-2a2c-4b97-9771-d706eaf6b17d",
   "metadata": {
    "tags": []
   },
   "outputs": [
    {
     "data": {
      "text/plain": [
       "3.75"
      ]
     },
     "execution_count": 13,
     "metadata": {},
     "output_type": "execute_result"
    }
   ],
   "source": [
    "train.transaction_total.median()"
   ]
  },
  {
   "cell_type": "code",
   "execution_count": 14,
   "id": "18d39915-79d0-4d66-bccb-58de023c42dc",
   "metadata": {
    "tags": []
   },
   "outputs": [
    {
     "data": {
      "text/plain": [
       "4.496145862471424"
      ]
     },
     "execution_count": 14,
     "metadata": {},
     "output_type": "execute_result"
    }
   ],
   "source": [
    "train.transaction_total.mean()"
   ]
  },
  {
   "cell_type": "code",
   "execution_count": 15,
   "id": "0e5ad3fd-b15e-4324-92bd-e18d2d134eaf",
   "metadata": {
    "tags": []
   },
   "outputs": [],
   "source": [
    "# EXPLORE DATA"
   ]
  },
  {
   "cell_type": "code",
   "execution_count": 16,
   "id": "4aedf76b-1ec9-4490-9485-0a866b661b5a",
   "metadata": {},
   "outputs": [],
   "source": [
    "# Exploratory Questions:\n",
    "    # -- Does time, day or month have an impact on transaction_total?\n",
    "    # -- Is there a relationship between product_category or product_type and transaction_total?\n",
    "    # -- Does store_location matter?"
   ]
  },
  {
   "cell_type": "code",
   "execution_count": 17,
   "id": "8eef07d8-6c1b-485c-bff3-c4ca4b8e6dec",
   "metadata": {},
   "outputs": [],
   "source": [
    "# Resample Data -- Daily"
   ]
  },
  {
   "cell_type": "code",
   "execution_count": 18,
   "id": "a1d65b14-c239-470b-8123-43d6a2bee38e",
   "metadata": {
    "tags": []
   },
   "outputs": [
    {
     "data": {
      "text/html": [
       "<div>\n",
       "<style scoped>\n",
       "    .dataframe tbody tr th:only-of-type {\n",
       "        vertical-align: middle;\n",
       "    }\n",
       "\n",
       "    .dataframe tbody tr th {\n",
       "        vertical-align: top;\n",
       "    }\n",
       "\n",
       "    .dataframe thead th {\n",
       "        text-align: right;\n",
       "    }\n",
       "</style>\n",
       "<table border=\"1\" class=\"dataframe\">\n",
       "  <thead>\n",
       "    <tr style=\"text-align: right;\">\n",
       "      <th></th>\n",
       "      <th>transaction_qty</th>\n",
       "      <th>store_id</th>\n",
       "      <th>product_id</th>\n",
       "      <th>unit_price</th>\n",
       "      <th>transaction_total</th>\n",
       "      <th>hour</th>\n",
       "    </tr>\n",
       "    <tr>\n",
       "      <th>transaction_date_time</th>\n",
       "      <th></th>\n",
       "      <th></th>\n",
       "      <th></th>\n",
       "      <th></th>\n",
       "      <th></th>\n",
       "      <th></th>\n",
       "    </tr>\n",
       "  </thead>\n",
       "  <tbody>\n",
       "    <tr>\n",
       "      <th>2023-01-01</th>\n",
       "      <td>802</td>\n",
       "      <td>2922</td>\n",
       "      <td>25406</td>\n",
       "      <td>1731.80</td>\n",
       "      <td>2508.20</td>\n",
       "      <td>7479</td>\n",
       "    </tr>\n",
       "    <tr>\n",
       "      <th>2023-01-02</th>\n",
       "      <td>790</td>\n",
       "      <td>2991</td>\n",
       "      <td>26332</td>\n",
       "      <td>1743.95</td>\n",
       "      <td>2403.35</td>\n",
       "      <td>7746</td>\n",
       "    </tr>\n",
       "    <tr>\n",
       "      <th>2023-01-03</th>\n",
       "      <td>823</td>\n",
       "      <td>3133</td>\n",
       "      <td>27579</td>\n",
       "      <td>1826.60</td>\n",
       "      <td>2565.00</td>\n",
       "      <td>8033</td>\n",
       "    </tr>\n",
       "    <tr>\n",
       "      <th>2023-01-04</th>\n",
       "      <td>726</td>\n",
       "      <td>2621</td>\n",
       "      <td>22629</td>\n",
       "      <td>1533.40</td>\n",
       "      <td>2220.10</td>\n",
       "      <td>6890</td>\n",
       "    </tr>\n",
       "    <tr>\n",
       "      <th>2023-01-05</th>\n",
       "      <td>778</td>\n",
       "      <td>2843</td>\n",
       "      <td>25757</td>\n",
       "      <td>1715.35</td>\n",
       "      <td>2418.85</td>\n",
       "      <td>7379</td>\n",
       "    </tr>\n",
       "  </tbody>\n",
       "</table>\n",
       "</div>"
      ],
      "text/plain": [
       "                       transaction_qty  store_id  product_id  unit_price  \\\n",
       "transaction_date_time                                                      \n",
       "2023-01-01                         802      2922       25406     1731.80   \n",
       "2023-01-02                         790      2991       26332     1743.95   \n",
       "2023-01-03                         823      3133       27579     1826.60   \n",
       "2023-01-04                         726      2621       22629     1533.40   \n",
       "2023-01-05                         778      2843       25757     1715.35   \n",
       "\n",
       "                       transaction_total  hour  \n",
       "transaction_date_time                           \n",
       "2023-01-01                       2508.20  7479  \n",
       "2023-01-02                       2403.35  7746  \n",
       "2023-01-03                       2565.00  8033  \n",
       "2023-01-04                       2220.10  6890  \n",
       "2023-01-05                       2418.85  7379  "
      ]
     },
     "execution_count": 18,
     "metadata": {},
     "output_type": "execute_result"
    }
   ],
   "source": [
    "# create dataframe with summed observations, resampled daily\n",
    "\n",
    "by_day = train.resample('D').sum()\n",
    "by_day.head()"
   ]
  },
  {
   "cell_type": "code",
   "execution_count": 19,
   "id": "702bb809-90ba-4b55-83d8-c3a0db7fa775",
   "metadata": {
    "tags": []
   },
   "outputs": [
    {
     "data": {
      "text/plain": [
       "<Axes: xlabel='transaction_date_time'>"
      ]
     },
     "execution_count": 19,
     "metadata": {},
     "output_type": "execute_result"
    },
    {
     "data": {
      "image/png": "[encoded data removed]",
      "text/plain": [
       "<Figure size 640x480 with 1 Axes>"
      ]
     },
     "metadata": {},
     "output_type": "display_data"
    }
   ],
   "source": [
    "# plot resampled target variable that has been resampled and summed\n",
    "\n",
    "by_day.transaction_total.plot()"
   ]
  },
  {
   "cell_type": "code",
   "execution_count": 20,
   "id": "17280e71-574e-49b7-a719-dbc8b6a0ecf8",
   "metadata": {},
   "outputs": [],
   "source": [
    "# Resample Data -- Weekly"
   ]
  },
  {
   "cell_type": "code",
   "execution_count": 21,
   "id": "7b4a7c84-6c5f-4bfc-8a75-d6d8715341e5",
   "metadata": {
    "tags": []
   },
   "outputs": [
    {
     "data": {
      "text/html": [
       "<div>\n",
       "<style scoped>\n",
       "    .dataframe tbody tr th:only-of-type {\n",
       "        vertical-align: middle;\n",
       "    }\n",
       "\n",
       "    .dataframe tbody tr th {\n",
       "        vertical-align: top;\n",
       "    }\n",
       "\n",
       "    .dataframe thead th {\n",
       "        text-align: right;\n",
       "    }\n",
       "</style>\n",
       "<table border=\"1\" class=\"dataframe\">\n",
       "  <thead>\n",
       "    <tr style=\"text-align: right;\">\n",
       "      <th></th>\n",
       "      <th>transaction_qty</th>\n",
       "      <th>store_id</th>\n",
       "      <th>product_id</th>\n",
       "      <th>unit_price</th>\n",
       "      <th>transaction_total</th>\n",
       "      <th>hour</th>\n",
       "    </tr>\n",
       "    <tr>\n",
       "      <th>transaction_date_time</th>\n",
       "      <th></th>\n",
       "      <th></th>\n",
       "      <th></th>\n",
       "      <th></th>\n",
       "      <th></th>\n",
       "      <th></th>\n",
       "    </tr>\n",
       "  </thead>\n",
       "  <tbody>\n",
       "    <tr>\n",
       "      <th>2023-01-01</th>\n",
       "      <td>802</td>\n",
       "      <td>2922</td>\n",
       "      <td>25406</td>\n",
       "      <td>1731.80</td>\n",
       "      <td>2508.20</td>\n",
       "      <td>7479</td>\n",
       "    </tr>\n",
       "    <tr>\n",
       "      <th>2023-01-08</th>\n",
       "      <td>5445</td>\n",
       "      <td>20472</td>\n",
       "      <td>178197</td>\n",
       "      <td>11989.43</td>\n",
       "      <td>16851.48</td>\n",
       "      <td>49779</td>\n",
       "    </tr>\n",
       "    <tr>\n",
       "      <th>2023-01-15</th>\n",
       "      <td>5741</td>\n",
       "      <td>22211</td>\n",
       "      <td>198359</td>\n",
       "      <td>13242.68</td>\n",
       "      <td>17970.53</td>\n",
       "      <td>44219</td>\n",
       "    </tr>\n",
       "    <tr>\n",
       "      <th>2023-01-22</th>\n",
       "      <td>5645</td>\n",
       "      <td>20940</td>\n",
       "      <td>195520</td>\n",
       "      <td>12798.91</td>\n",
       "      <td>17569.31</td>\n",
       "      <td>43376</td>\n",
       "    </tr>\n",
       "    <tr>\n",
       "      <th>2023-01-29</th>\n",
       "      <td>5754</td>\n",
       "      <td>20108</td>\n",
       "      <td>183201</td>\n",
       "      <td>12165.63</td>\n",
       "      <td>17830.28</td>\n",
       "      <td>45899</td>\n",
       "    </tr>\n",
       "  </tbody>\n",
       "</table>\n",
       "</div>"
      ],
      "text/plain": [
       "                       transaction_qty  store_id  product_id  unit_price  \\\n",
       "transaction_date_time                                                      \n",
       "2023-01-01                         802      2922       25406     1731.80   \n",
       "2023-01-08                        5445     20472      178197    11989.43   \n",
       "2023-01-15                        5741     22211      198359    13242.68   \n",
       "2023-01-22                        5645     20940      195520    12798.91   \n",
       "2023-01-29                        5754     20108      183201    12165.63   \n",
       "\n",
       "                       transaction_total   hour  \n",
       "transaction_date_time                            \n",
       "2023-01-01                       2508.20   7479  \n",
       "2023-01-08                      16851.48  49779  \n",
       "2023-01-15                      17970.53  44219  \n",
       "2023-01-22                      17569.31  43376  \n",
       "2023-01-29                      17830.28  45899  "
      ]
     },
     "execution_count": 21,
     "metadata": {},
     "output_type": "execute_result"
    }
   ],
   "source": [
    "# create dataframe with summed observations, resampled weekly\n",
    "\n",
    "by_week = train.resample('W').sum()\n",
    "by_week.head()"
   ]
  },
  {
   "cell_type": "code",
   "execution_count": 22,
   "id": "97e5ab19-186c-4d16-a888-be2e08b1dc72",
   "metadata": {
    "tags": []
   },
   "outputs": [
    {
     "data": {
      "text/plain": [
       "<Axes: xlabel='transaction_date_time'>"
      ]
     },
     "execution_count": 22,
     "metadata": {},
     "output_type": "execute_result"
    },
    {
     "data": {
      "image/png": "[encoded data removed]",
      "text/plain": [
       "<Figure size 640x480 with 1 Axes>"
      ]
     },
     "metadata": {},
     "output_type": "display_data"
    }
   ],
   "source": [
    "# plot resampled target variable that has been resampled and summed\n",
    "\n",
    "by_week.transaction_total.plot()"
   ]
  },
  {
   "cell_type": "code",
   "execution_count": 24,
   "id": "02bf2493-6570-4af8-b86b-951bb7a39401",
   "metadata": {},
   "outputs": [],
   "source": [
    "# Construct lag plots of the resampled data to see if the target variable follows a linear pattern."
   ]
  },
  {
   "cell_type": "code",
   "execution_count": 25,
   "id": "76c62c54-9d19-4b82-8cac-42f24721c229",
   "metadata": {},
   "outputs": [],
   "source": [
    "# Lag Plot -- By Week"
   ]
  },
  {
   "cell_type": "code",
   "execution_count": 26,
   "id": "473f3d91-60e2-41cd-9f67-d233714c75f8",
   "metadata": {
    "tags": []
   },
   "outputs": [],
   "source": [
    "y = by_week.transaction_total"
   ]
  },
  {
   "cell_type": "code",
   "execution_count": 27,
   "id": "31e7a422-55af-42c3-9a78-9976874bedb7",
   "metadata": {
    "tags": []
   },
   "outputs": [
    {
     "data": {
      "text/plain": [
       "[Text(0.5, 0, 't'), Text(0, 0.5, 't+1')]"
      ]
     },
     "execution_count": 27,
     "metadata": {},
     "output_type": "execute_result"
    },
    {
     "data": {
      "image/png": "[encoded data removed]",
      "text/plain": [
       "<Figure size 640x480 with 1 Axes>"
      ]
     },
     "metadata": {},
     "output_type": "display_data"
    }
   ],
   "source": [
    "by_week['y(t + 1)'] = by_week.transaction_total.shift(-1)\n",
    "ax = by_week.plot.scatter(x='transaction_total', y='y(t + 1)')\n",
    "ax.set(xlabel='t', ylabel='t+1')"
   ]
  },
  {
   "cell_type": "code",
   "execution_count": 28,
   "id": "2b4f2f4b-b700-4072-bcee-163758c4da12",
   "metadata": {
    "tags": []
   },
   "outputs": [
    {
     "data": {
      "text/html": [
       "<div>\n",
       "<style scoped>\n",
       "    .dataframe tbody tr th:only-of-type {\n",
       "        vertical-align: middle;\n",
       "    }\n",
       "\n",
       "    .dataframe tbody tr th {\n",
       "        vertical-align: top;\n",
       "    }\n",
       "\n",
       "    .dataframe thead th {\n",
       "        text-align: right;\n",
       "    }\n",
       "</style>\n",
       "<table border=\"1\" class=\"dataframe\">\n",
       "  <thead>\n",
       "    <tr style=\"text-align: right;\">\n",
       "      <th></th>\n",
       "      <th>transaction_qty</th>\n",
       "      <th>store_id</th>\n",
       "      <th>product_id</th>\n",
       "      <th>unit_price</th>\n",
       "      <th>transaction_total</th>\n",
       "      <th>hour</th>\n",
       "      <th>y(t + 1)</th>\n",
       "      <th>next_week</th>\n",
       "    </tr>\n",
       "    <tr>\n",
       "      <th>transaction_date_time</th>\n",
       "      <th></th>\n",
       "      <th></th>\n",
       "      <th></th>\n",
       "      <th></th>\n",
       "      <th></th>\n",
       "      <th></th>\n",
       "      <th></th>\n",
       "      <th></th>\n",
       "    </tr>\n",
       "  </thead>\n",
       "  <tbody>\n",
       "    <tr>\n",
       "      <th>2023-01-01</th>\n",
       "      <td>802</td>\n",
       "      <td>2922</td>\n",
       "      <td>25406</td>\n",
       "      <td>1731.80</td>\n",
       "      <td>2508.20</td>\n",
       "      <td>7479</td>\n",
       "      <td>16851.48</td>\n",
       "      <td>16851.48</td>\n",
       "    </tr>\n",
       "    <tr>\n",
       "      <th>2023-01-08</th>\n",
       "      <td>5445</td>\n",
       "      <td>20472</td>\n",
       "      <td>178197</td>\n",
       "      <td>11989.43</td>\n",
       "      <td>16851.48</td>\n",
       "      <td>49779</td>\n",
       "      <td>17970.53</td>\n",
       "      <td>17970.53</td>\n",
       "    </tr>\n",
       "    <tr>\n",
       "      <th>2023-01-15</th>\n",
       "      <td>5741</td>\n",
       "      <td>22211</td>\n",
       "      <td>198359</td>\n",
       "      <td>13242.68</td>\n",
       "      <td>17970.53</td>\n",
       "      <td>44219</td>\n",
       "      <td>17569.31</td>\n",
       "      <td>17569.31</td>\n",
       "    </tr>\n",
       "    <tr>\n",
       "      <th>2023-01-22</th>\n",
       "      <td>5645</td>\n",
       "      <td>20940</td>\n",
       "      <td>195520</td>\n",
       "      <td>12798.91</td>\n",
       "      <td>17569.31</td>\n",
       "      <td>43376</td>\n",
       "      <td>17830.28</td>\n",
       "      <td>17830.28</td>\n",
       "    </tr>\n",
       "    <tr>\n",
       "      <th>2023-01-29</th>\n",
       "      <td>5754</td>\n",
       "      <td>20108</td>\n",
       "      <td>183201</td>\n",
       "      <td>12165.63</td>\n",
       "      <td>17830.28</td>\n",
       "      <td>45899</td>\n",
       "      <td>16734.74</td>\n",
       "      <td>16734.74</td>\n",
       "    </tr>\n",
       "  </tbody>\n",
       "</table>\n",
       "</div>"
      ],
      "text/plain": [
       "                       transaction_qty  store_id  product_id  unit_price  \\\n",
       "transaction_date_time                                                      \n",
       "2023-01-01                         802      2922       25406     1731.80   \n",
       "2023-01-08                        5445     20472      178197    11989.43   \n",
       "2023-01-15                        5741     22211      198359    13242.68   \n",
       "2023-01-22                        5645     20940      195520    12798.91   \n",
       "2023-01-29                        5754     20108      183201    12165.63   \n",
       "\n",
       "                       transaction_total   hour  y(t + 1)  next_week  \n",
       "transaction_date_time                                                 \n",
       "2023-01-01                       2508.20   7479  16851.48   16851.48  \n",
       "2023-01-08                      16851.48  49779  17970.53   17970.53  \n",
       "2023-01-15                      17970.53  44219  17569.31   17569.31  \n",
       "2023-01-22                      17569.31  43376  17830.28   17830.28  \n",
       "2023-01-29                      17830.28  45899  16734.74   16734.74  "
      ]
     },
     "execution_count": 28,
     "metadata": {},
     "output_type": "execute_result"
    }
   ],
   "source": [
    "by_week['next_week'] = by_week.transaction_total.shift(-1)\n",
    "by_week.head()"
   ]
  },
  {
   "cell_type": "code",
   "execution_count": 29,
   "id": "b1b3be90-efc1-44d5-a09d-de58658a3908",
   "metadata": {},
   "outputs": [],
   "source": [
    "# Lag Plot -- By Day"
   ]
  },
  {
   "cell_type": "code",
   "execution_count": 30,
   "id": "a26fbb13-a4a6-4c27-a570-29fb1a71f9ea",
   "metadata": {},
   "outputs": [],
   "source": [
    "y2 = by_day.transaction_total"
   ]
  },
  {
   "cell_type": "code",
   "execution_count": 31,
   "id": "8d7a0297-f965-41ac-be59-671be8f2ebab",
   "metadata": {
    "tags": []
   },
   "outputs": [
    {
     "data": {
      "text/plain": [
       "[Text(0.5, 0, 't'), Text(0, 0.5, 't+1')]"
      ]
     },
     "execution_count": 31,
     "metadata": {},
     "output_type": "execute_result"
    },
    {
     "data": {
      "image/png": "[encoded data removed]",
      "text/plain": [
       "<Figure size 640x480 with 1 Axes>"
      ]
     },
     "metadata": {},
     "output_type": "display_data"
    }
   ],
   "source": [
    "by_day['y2(t + 1)'] = by_day.transaction_total.shift(-1)\n",
    "ax = by_day.plot.scatter(x='transaction_total', y='y2(t + 1)')\n",
    "ax.set(xlabel='t', ylabel='t+1')"
   ]
  },
  {
   "cell_type": "code",
   "execution_count": 32,
   "id": "73ce8761-b5ae-49c7-b422-479de2be91ed",
   "metadata": {
    "tags": []
   },
   "outputs": [
    {
     "data": {
      "text/html": [
       "<div>\n",
       "<style scoped>\n",
       "    .dataframe tbody tr th:only-of-type {\n",
       "        vertical-align: middle;\n",
       "    }\n",
       "\n",
       "    .dataframe tbody tr th {\n",
       "        vertical-align: top;\n",
       "    }\n",
       "\n",
       "    .dataframe thead th {\n",
       "        text-align: right;\n",
       "    }\n",
       "</style>\n",
       "<table border=\"1\" class=\"dataframe\">\n",
       "  <thead>\n",
       "    <tr style=\"text-align: right;\">\n",
       "      <th></th>\n",
       "      <th>transaction_qty</th>\n",
       "      <th>store_id</th>\n",
       "      <th>product_id</th>\n",
       "      <th>unit_price</th>\n",
       "      <th>transaction_total</th>\n",
       "      <th>hour</th>\n",
       "      <th>y2(t + 1)</th>\n",
       "      <th>tomorrow</th>\n",
       "    </tr>\n",
       "    <tr>\n",
       "      <th>transaction_date_time</th>\n",
       "      <th></th>\n",
       "      <th></th>\n",
       "      <th></th>\n",
       "      <th></th>\n",
       "      <th></th>\n",
       "      <th></th>\n",
       "      <th></th>\n",
       "      <th></th>\n",
       "    </tr>\n",
       "  </thead>\n",
       "  <tbody>\n",
       "    <tr>\n",
       "      <th>2023-01-01</th>\n",
       "      <td>802</td>\n",
       "      <td>2922</td>\n",
       "      <td>25406</td>\n",
       "      <td>1731.80</td>\n",
       "      <td>2508.20</td>\n",
       "      <td>7479</td>\n",
       "      <td>2403.35</td>\n",
       "      <td>2403.35</td>\n",
       "    </tr>\n",
       "    <tr>\n",
       "      <th>2023-01-02</th>\n",
       "      <td>790</td>\n",
       "      <td>2991</td>\n",
       "      <td>26332</td>\n",
       "      <td>1743.95</td>\n",
       "      <td>2403.35</td>\n",
       "      <td>7746</td>\n",
       "      <td>2565.00</td>\n",
       "      <td>2565.00</td>\n",
       "    </tr>\n",
       "    <tr>\n",
       "      <th>2023-01-03</th>\n",
       "      <td>823</td>\n",
       "      <td>3133</td>\n",
       "      <td>27579</td>\n",
       "      <td>1826.60</td>\n",
       "      <td>2565.00</td>\n",
       "      <td>8033</td>\n",
       "      <td>2220.10</td>\n",
       "      <td>2220.10</td>\n",
       "    </tr>\n",
       "    <tr>\n",
       "      <th>2023-01-04</th>\n",
       "      <td>726</td>\n",
       "      <td>2621</td>\n",
       "      <td>22629</td>\n",
       "      <td>1533.40</td>\n",
       "      <td>2220.10</td>\n",
       "      <td>6890</td>\n",
       "      <td>2418.85</td>\n",
       "      <td>2418.85</td>\n",
       "    </tr>\n",
       "    <tr>\n",
       "      <th>2023-01-05</th>\n",
       "      <td>778</td>\n",
       "      <td>2843</td>\n",
       "      <td>25757</td>\n",
       "      <td>1715.35</td>\n",
       "      <td>2418.85</td>\n",
       "      <td>7379</td>\n",
       "      <td>2273.85</td>\n",
       "      <td>2273.85</td>\n",
       "    </tr>\n",
       "  </tbody>\n",
       "</table>\n",
       "</div>"
      ],
      "text/plain": [
       "                       transaction_qty  store_id  product_id  unit_price  \\\n",
       "transaction_date_time                                                      \n",
       "2023-01-01                         802      2922       25406     1731.80   \n",
       "2023-01-02                         790      2991       26332     1743.95   \n",
       "2023-01-03                         823      3133       27579     1826.60   \n",
       "2023-01-04                         726      2621       22629     1533.40   \n",
       "2023-01-05                         778      2843       25757     1715.35   \n",
       "\n",
       "                       transaction_total  hour  y2(t + 1)  tomorrow  \n",
       "transaction_date_time                                                \n",
       "2023-01-01                       2508.20  7479    2403.35   2403.35  \n",
       "2023-01-02                       2403.35  7746    2565.00   2565.00  \n",
       "2023-01-03                       2565.00  8033    2220.10   2220.10  \n",
       "2023-01-04                       2220.10  6890    2418.85   2418.85  \n",
       "2023-01-05                       2418.85  7379    2273.85   2273.85  "
      ]
     },
     "execution_count": 32,
     "metadata": {},
     "output_type": "execute_result"
    }
   ],
   "source": [
    "by_day['tomorrow'] = by_day.transaction_total.shift(-1)\n",
    "by_day.head()"
   ]
  },
  {
   "cell_type": "code",
   "execution_count": 33,
   "id": "817abd80-b256-4659-98a6-31bec4a080eb",
   "metadata": {},
   "outputs": [],
   "source": [
    "# MODELING"
   ]
  },
  {
   "cell_type": "code",
   "execution_count": 34,
   "id": "485cc033-9899-43b7-8de8-668c67500838",
   "metadata": {
    "tags": []
   },
   "outputs": [],
   "source": [
    "# evaluation function to compute rmse\n",
    "def evaluate(target_var):\n",
    "    '''\n",
    "    This function will take the actual values of the target_var from validate, \n",
    "    and the predicted values stored in yhat_df, \n",
    "    and compute the rmse, rounding to 0 decimal places. \n",
    "    it will return the rmse. \n",
    "    '''\n",
    "    rmse = sqrt(mean_squared_error(target_var, yhat_df))\n",
    "    return rmse"
   ]
  },
  {
   "cell_type": "code",
   "execution_count": 35,
   "id": "e82303a5-84c4-436f-a534-a75eebeb6f98",
   "metadata": {
    "tags": []
   },
   "outputs": [],
   "source": [
    "# plot and evaluate \n",
    "def plot_and_eval(target_var):\n",
    "    '''\n",
    "    This function takes in the target var name (string), and returns a plot\n",
    "    of the values of train for that variable, validate, and the predicted values from yhat_df. \n",
    "    it will als lable the rmse. \n",
    "    '''\n",
    "    plt.figure(figsize = (12,4))\n",
    "    plt.plot(by_week['transaction_total'], label = 'By Week', linewidth = 1)\n",
    "    plt.plot(yhat_df['transaction_total'])\n",
    "    plt.title('transaction_total')\n",
    "    # rmse = by_week('transaction_total')\n",
    "    rmse = sqrt(mean_squared_error(by_week[target_var], yhat_df))\n",
    "    print('transaction_total', '-- RMSE: {:.0f}'.format(rmse))\n",
    "    plt.show()"
   ]
  },
  {
   "cell_type": "code",
   "execution_count": 36,
   "id": "15c1cbe4-50cf-4dbc-a676-31fd1fa5fbdd",
   "metadata": {
    "tags": []
   },
   "outputs": [],
   "source": [
    "# function to store rmse for comparison purposes\n",
    "def append_eval_df(model_type, target_var):\n",
    "    '''\n",
    "    this function takes in as arguments the type of model run, and the name of the target variable. \n",
    "    It returns the eval_df with the rmse appended to it for that model and target_var. \n",
    "    '''\n",
    "    rmse = evaluate(target_var)\n",
    "    d = {'model_type': [model_type], 'target_var': [target_var], 'rmse': [rmse]}\n",
    "    d = pd.DataFrame(d)\n",
    "    return pd.concat([eval_df, d])"
   ]
  },
  {
   "cell_type": "code",
   "execution_count": 37,
   "id": "ac45aef7-3640-4676-a112-0839d43a5689",
   "metadata": {
    "tags": []
   },
   "outputs": [
    {
     "data": {
      "text/html": [
       "<div>\n",
       "<style scoped>\n",
       "    .dataframe tbody tr th:only-of-type {\n",
       "        vertical-align: middle;\n",
       "    }\n",
       "\n",
       "    .dataframe tbody tr th {\n",
       "        vertical-align: top;\n",
       "    }\n",
       "\n",
       "    .dataframe thead th {\n",
       "        text-align: right;\n",
       "    }\n",
       "</style>\n",
       "<table border=\"1\" class=\"dataframe\">\n",
       "  <thead>\n",
       "    <tr style=\"text-align: right;\">\n",
       "      <th></th>\n",
       "      <th>model_type</th>\n",
       "      <th>target_var</th>\n",
       "      <th>rmse</th>\n",
       "    </tr>\n",
       "  </thead>\n",
       "  <tbody>\n",
       "  </tbody>\n",
       "</table>\n",
       "</div>"
      ],
      "text/plain": [
       "Empty DataFrame\n",
       "Columns: [model_type, target_var, rmse]\n",
       "Index: []"
      ]
     },
     "execution_count": 37,
     "metadata": {},
     "output_type": "execute_result"
    }
   ],
   "source": [
    "# Create the empty dataframe\n",
    "eval_df = pd.DataFrame(columns=['model_type', 'target_var', 'rmse'])\n",
    "eval_df"
   ]
  },
  {
   "cell_type": "code",
   "execution_count": 38,
   "id": "33aabd2c-0571-4f42-80da-a2f8251694dd",
   "metadata": {},
   "outputs": [],
   "source": [
    "# MODEL 1 -- Last Observed Value (Weekly)"
   ]
  },
  {
   "cell_type": "code",
   "execution_count": 39,
   "id": "4314b42a-2bc0-4413-bf2e-0544f0fff5fd",
   "metadata": {
    "tags": []
   },
   "outputs": [
    {
     "data": {
      "text/html": [
       "<div>\n",
       "<style scoped>\n",
       "    .dataframe tbody tr th:only-of-type {\n",
       "        vertical-align: middle;\n",
       "    }\n",
       "\n",
       "    .dataframe tbody tr th {\n",
       "        vertical-align: top;\n",
       "    }\n",
       "\n",
       "    .dataframe thead th {\n",
       "        text-align: right;\n",
       "    }\n",
       "</style>\n",
       "<table border=\"1\" class=\"dataframe\">\n",
       "  <thead>\n",
       "    <tr style=\"text-align: right;\">\n",
       "      <th></th>\n",
       "      <th>transaction_total</th>\n",
       "    </tr>\n",
       "    <tr>\n",
       "      <th>transaction_date_time</th>\n",
       "      <th></th>\n",
       "    </tr>\n",
       "  </thead>\n",
       "  <tbody>\n",
       "    <tr>\n",
       "      <th>2023-01-01</th>\n",
       "      <td>5535.66</td>\n",
       "    </tr>\n",
       "    <tr>\n",
       "      <th>2023-01-08</th>\n",
       "      <td>5535.66</td>\n",
       "    </tr>\n",
       "    <tr>\n",
       "      <th>2023-01-15</th>\n",
       "      <td>5535.66</td>\n",
       "    </tr>\n",
       "    <tr>\n",
       "      <th>2023-01-22</th>\n",
       "      <td>5535.66</td>\n",
       "    </tr>\n",
       "    <tr>\n",
       "      <th>2023-01-29</th>\n",
       "      <td>5535.66</td>\n",
       "    </tr>\n",
       "  </tbody>\n",
       "</table>\n",
       "</div>"
      ],
      "text/plain": [
       "                       transaction_total\n",
       "transaction_date_time                   \n",
       "2023-01-01                       5535.66\n",
       "2023-01-08                       5535.66\n",
       "2023-01-15                       5535.66\n",
       "2023-01-22                       5535.66\n",
       "2023-01-29                       5535.66"
      ]
     },
     "execution_count": 39,
     "metadata": {},
     "output_type": "execute_result"
    }
   ],
   "source": [
    "last_sales = by_week['transaction_total'][-1:][0]\n",
    "\n",
    "yhat_df = pd.DataFrame(\n",
    "    {'transaction_total': [last_sales]},\n",
    "    index=by_week.index)\n",
    "\n",
    "yhat_df.head()"
   ]
  },
  {
   "cell_type": "code",
   "execution_count": 40,
   "id": "ab4ab662-66c4-4954-9ac8-a5d03435ff89",
   "metadata": {
    "tags": []
   },
   "outputs": [
    {
     "data": {
      "text/plain": [
       "17438.73205606117"
      ]
     },
     "execution_count": 40,
     "metadata": {},
     "output_type": "execute_result"
    }
   ],
   "source": [
    "target_var = by_week['transaction_total']\n",
    "evaluate(target_var)"
   ]
  },
  {
   "cell_type": "code",
   "execution_count": 41,
   "id": "098bfa09-b7ce-4473-9a68-6e79ed770c9b",
   "metadata": {
    "tags": []
   },
   "outputs": [
    {
     "data": {
      "text/html": [
       "<div>\n",
       "<style scoped>\n",
       "    .dataframe tbody tr th:only-of-type {\n",
       "        vertical-align: middle;\n",
       "    }\n",
       "\n",
       "    .dataframe tbody tr th {\n",
       "        vertical-align: top;\n",
       "    }\n",
       "\n",
       "    .dataframe thead th {\n",
       "        text-align: right;\n",
       "    }\n",
       "</style>\n",
       "<table border=\"1\" class=\"dataframe\">\n",
       "  <thead>\n",
       "    <tr style=\"text-align: right;\">\n",
       "      <th></th>\n",
       "      <th>model_type</th>\n",
       "      <th>target_var</th>\n",
       "      <th>rmse</th>\n",
       "    </tr>\n",
       "  </thead>\n",
       "  <tbody>\n",
       "    <tr>\n",
       "      <th>0</th>\n",
       "      <td>last_observed_value_weekly</td>\n",
       "      <td>transaction_date_time\n",
       "2023-01-01     2508.20\n",
       "2...</td>\n",
       "      <td>17438.732056</td>\n",
       "    </tr>\n",
       "  </tbody>\n",
       "</table>\n",
       "</div>"
      ],
      "text/plain": [
       "                   model_type  \\\n",
       "0  last_observed_value_weekly   \n",
       "\n",
       "                                          target_var          rmse  \n",
       "0  transaction_date_time\n",
       "2023-01-01     2508.20\n",
       "2...  17438.732056  "
      ]
     },
     "execution_count": 41,
     "metadata": {},
     "output_type": "execute_result"
    }
   ],
   "source": [
    "eval_df = append_eval_df(model_type = 'last_observed_value_weekly', \n",
    "                             target_var = by_week['transaction_total'])\n",
    "eval_df"
   ]
  },
  {
   "cell_type": "code",
   "execution_count": 42,
   "id": "100bd810-1007-438c-9a81-5e83947aaa8b",
   "metadata": {},
   "outputs": [],
   "source": [
    "# MODEL 2 -- Last Observed Value (Daily)"
   ]
  },
  {
   "cell_type": "code",
   "execution_count": 43,
   "id": "27f3245f-1d1c-43cf-ad14-ee509f0cbee2",
   "metadata": {
    "tags": []
   },
   "outputs": [
    {
     "data": {
      "text/html": [
       "<div>\n",
       "<style scoped>\n",
       "    .dataframe tbody tr th:only-of-type {\n",
       "        vertical-align: middle;\n",
       "    }\n",
       "\n",
       "    .dataframe tbody tr th {\n",
       "        vertical-align: top;\n",
       "    }\n",
       "\n",
       "    .dataframe thead th {\n",
       "        text-align: right;\n",
       "    }\n",
       "</style>\n",
       "<table border=\"1\" class=\"dataframe\">\n",
       "  <thead>\n",
       "    <tr style=\"text-align: right;\">\n",
       "      <th></th>\n",
       "      <th>transaction_total</th>\n",
       "    </tr>\n",
       "    <tr>\n",
       "      <th>transaction_date_time</th>\n",
       "      <th></th>\n",
       "    </tr>\n",
       "  </thead>\n",
       "  <tbody>\n",
       "    <tr>\n",
       "      <th>2023-01-01</th>\n",
       "      <td>191.95</td>\n",
       "    </tr>\n",
       "    <tr>\n",
       "      <th>2023-01-02</th>\n",
       "      <td>191.95</td>\n",
       "    </tr>\n",
       "    <tr>\n",
       "      <th>2023-01-03</th>\n",
       "      <td>191.95</td>\n",
       "    </tr>\n",
       "    <tr>\n",
       "      <th>2023-01-04</th>\n",
       "      <td>191.95</td>\n",
       "    </tr>\n",
       "    <tr>\n",
       "      <th>2023-01-05</th>\n",
       "      <td>191.95</td>\n",
       "    </tr>\n",
       "  </tbody>\n",
       "</table>\n",
       "</div>"
      ],
      "text/plain": [
       "                       transaction_total\n",
       "transaction_date_time                   \n",
       "2023-01-01                        191.95\n",
       "2023-01-02                        191.95\n",
       "2023-01-03                        191.95\n",
       "2023-01-04                        191.95\n",
       "2023-01-05                        191.95"
      ]
     },
     "execution_count": 43,
     "metadata": {},
     "output_type": "execute_result"
    }
   ],
   "source": [
    "last_sales_2 = by_day['transaction_total'][-1:][0]\n",
    "\n",
    "yhat_df = pd.DataFrame(\n",
    "    {'transaction_total': [last_sales_2]},\n",
    "    index=by_day.index)\n",
    "\n",
    "yhat_df.head()"
   ]
  },
  {
   "cell_type": "code",
   "execution_count": 44,
   "id": "7420b346-2a02-407f-b704-a7ef1486910a",
   "metadata": {
    "tags": []
   },
   "outputs": [
    {
     "data": {
      "text/plain": [
       "3198.641744137199"
      ]
     },
     "execution_count": 44,
     "metadata": {},
     "output_type": "execute_result"
    }
   ],
   "source": [
    "target_var = by_day['transaction_total']\n",
    "rmse = sqrt(mean_squared_error(target_var, yhat_df))\n",
    "rmse"
   ]
  },
  {
   "cell_type": "code",
   "execution_count": 45,
   "id": "58fa3d48-6890-4560-8480-76029ad501e2",
   "metadata": {
    "tags": []
   },
   "outputs": [
    {
     "data": {
      "text/html": [
       "<div>\n",
       "<style scoped>\n",
       "    .dataframe tbody tr th:only-of-type {\n",
       "        vertical-align: middle;\n",
       "    }\n",
       "\n",
       "    .dataframe tbody tr th {\n",
       "        vertical-align: top;\n",
       "    }\n",
       "\n",
       "    .dataframe thead th {\n",
       "        text-align: right;\n",
       "    }\n",
       "</style>\n",
       "<table border=\"1\" class=\"dataframe\">\n",
       "  <thead>\n",
       "    <tr style=\"text-align: right;\">\n",
       "      <th></th>\n",
       "      <th>model_type</th>\n",
       "      <th>target_var</th>\n",
       "      <th>rmse</th>\n",
       "    </tr>\n",
       "  </thead>\n",
       "  <tbody>\n",
       "    <tr>\n",
       "      <th>0</th>\n",
       "      <td>last_observed_value_weekly</td>\n",
       "      <td>transaction_date_time\n",
       "2023-01-01     2508.20\n",
       "2...</td>\n",
       "      <td>17438.732056</td>\n",
       "    </tr>\n",
       "    <tr>\n",
       "      <th>0</th>\n",
       "      <td>last_observed_value_daily</td>\n",
       "      <td>transaction_date_time\n",
       "2023-01-01    2508.20\n",
       "20...</td>\n",
       "      <td>3198.641744</td>\n",
       "    </tr>\n",
       "  </tbody>\n",
       "</table>\n",
       "</div>"
      ],
      "text/plain": [
       "                   model_type  \\\n",
       "0  last_observed_value_weekly   \n",
       "0   last_observed_value_daily   \n",
       "\n",
       "                                          target_var          rmse  \n",
       "0  transaction_date_time\n",
       "2023-01-01     2508.20\n",
       "2...  17438.732056  \n",
       "0  transaction_date_time\n",
       "2023-01-01    2508.20\n",
       "20...   3198.641744  "
      ]
     },
     "execution_count": 45,
     "metadata": {},
     "output_type": "execute_result"
    }
   ],
   "source": [
    "eval_df = append_eval_df(model_type = 'last_observed_value_daily', \n",
    "                             target_var = by_day['transaction_total'])\n",
    "eval_df"
   ]
  },
  {
   "cell_type": "code",
   "execution_count": 46,
   "id": "9ec53192-b9b5-4dc9-8980-c46dcbf2557b",
   "metadata": {
    "tags": []
   },
   "outputs": [],
   "source": [
    "# MODEL 3 -- Holt's Linear Trend (Weekly)"
   ]
  },
  {
   "cell_type": "code",
   "execution_count": 47,
   "id": "82ce0466-dbc2-4c57-aac6-2c95a19605df",
   "metadata": {
    "tags": []
   },
   "outputs": [],
   "source": [
    "last_sales = by_week['transaction_total'][-1:][0]\n",
    "\n",
    "yhat_df = pd.DataFrame(\n",
    "    {'transaction_total': [last_sales]},\n",
    "    index=by_week.index)"
   ]
  },
  {
   "cell_type": "code",
   "execution_count": 48,
   "id": "26554a62-8688-4b12-93e8-3bad8ece343e",
   "metadata": {
    "tags": []
   },
   "outputs": [
    {
     "data": {
      "text/html": [
       "<div>\n",
       "<style scoped>\n",
       "    .dataframe tbody tr th:only-of-type {\n",
       "        vertical-align: middle;\n",
       "    }\n",
       "\n",
       "    .dataframe tbody tr th {\n",
       "        vertical-align: top;\n",
       "    }\n",
       "\n",
       "    .dataframe thead th {\n",
       "        text-align: right;\n",
       "    }\n",
       "</style>\n",
       "<table border=\"1\" class=\"dataframe\">\n",
       "  <thead>\n",
       "    <tr style=\"text-align: right;\">\n",
       "      <th></th>\n",
       "      <th>transaction_total</th>\n",
       "    </tr>\n",
       "    <tr>\n",
       "      <th>transaction_date_time</th>\n",
       "      <th></th>\n",
       "    </tr>\n",
       "  </thead>\n",
       "  <tbody>\n",
       "    <tr>\n",
       "      <th>2023-01-01</th>\n",
       "      <td>16708.05</td>\n",
       "    </tr>\n",
       "    <tr>\n",
       "      <th>2023-01-08</th>\n",
       "      <td>10785.49</td>\n",
       "    </tr>\n",
       "    <tr>\n",
       "      <th>2023-01-15</th>\n",
       "      <td>25125.54</td>\n",
       "    </tr>\n",
       "    <tr>\n",
       "      <th>2023-01-22</th>\n",
       "      <td>24270.05</td>\n",
       "    </tr>\n",
       "    <tr>\n",
       "      <th>2023-01-29</th>\n",
       "      <td>19873.87</td>\n",
       "    </tr>\n",
       "  </tbody>\n",
       "</table>\n",
       "</div>"
      ],
      "text/plain": [
       "                       transaction_total\n",
       "transaction_date_time                   \n",
       "2023-01-01                      16708.05\n",
       "2023-01-08                      10785.49\n",
       "2023-01-15                      25125.54\n",
       "2023-01-22                      24270.05\n",
       "2023-01-29                      19873.87"
      ]
     },
     "execution_count": 48,
     "metadata": {},
     "output_type": "execute_result"
    }
   ],
   "source": [
    "model = Holt(by_week['transaction_total'], exponential=False, damped=True)\n",
    "model = model.fit(optimized=True)\n",
    "yhat_values = model.predict(start = by_week.index[0],     #Should I be using my test dataset here?\n",
    "                            end = by_week.index[-1])\n",
    "yhat_df['transaction_total'] = round(yhat_values, 2)\n",
    "\n",
    "yhat_df.head()"
   ]
  },
  {
   "cell_type": "code",
   "execution_count": 49,
   "id": "06f665b7-5e1a-4e79-a1c8-e7400108ee1b",
   "metadata": {
    "tags": []
   },
   "outputs": [
    {
     "data": {
      "text/plain": [
       "8006.299321487141"
      ]
     },
     "execution_count": 49,
     "metadata": {},
     "output_type": "execute_result"
    }
   ],
   "source": [
    "target_var2 = by_week['transaction_total']\n",
    "evaluate(target_var2)"
   ]
  },
  {
   "cell_type": "code",
   "execution_count": 50,
   "id": "0eafe621-9b31-46d4-b1de-3ccf1b787163",
   "metadata": {
    "tags": []
   },
   "outputs": [
    {
     "data": {
      "text/html": [
       "<div>\n",
       "<style scoped>\n",
       "    .dataframe tbody tr th:only-of-type {\n",
       "        vertical-align: middle;\n",
       "    }\n",
       "\n",
       "    .dataframe tbody tr th {\n",
       "        vertical-align: top;\n",
       "    }\n",
       "\n",
       "    .dataframe thead th {\n",
       "        text-align: right;\n",
       "    }\n",
       "</style>\n",
       "<table border=\"1\" class=\"dataframe\">\n",
       "  <thead>\n",
       "    <tr style=\"text-align: right;\">\n",
       "      <th></th>\n",
       "      <th>model_type</th>\n",
       "      <th>target_var</th>\n",
       "      <th>rmse</th>\n",
       "    </tr>\n",
       "  </thead>\n",
       "  <tbody>\n",
       "    <tr>\n",
       "      <th>0</th>\n",
       "      <td>last_observed_value_weekly</td>\n",
       "      <td>transaction_date_time\n",
       "2023-01-01     2508.20\n",
       "2...</td>\n",
       "      <td>17438.732056</td>\n",
       "    </tr>\n",
       "    <tr>\n",
       "      <th>0</th>\n",
       "      <td>last_observed_value_daily</td>\n",
       "      <td>transaction_date_time\n",
       "2023-01-01    2508.20\n",
       "20...</td>\n",
       "      <td>3198.641744</td>\n",
       "    </tr>\n",
       "    <tr>\n",
       "      <th>0</th>\n",
       "      <td>holts_weekly</td>\n",
       "      <td>transaction_date_time\n",
       "2023-01-01     2508.20\n",
       "2...</td>\n",
       "      <td>8006.299321</td>\n",
       "    </tr>\n",
       "  </tbody>\n",
       "</table>\n",
       "</div>"
      ],
      "text/plain": [
       "                   model_type  \\\n",
       "0  last_observed_value_weekly   \n",
       "0   last_observed_value_daily   \n",
       "0                holts_weekly   \n",
       "\n",
       "                                          target_var          rmse  \n",
       "0  transaction_date_time\n",
       "2023-01-01     2508.20\n",
       "2...  17438.732056  \n",
       "0  transaction_date_time\n",
       "2023-01-01    2508.20\n",
       "20...   3198.641744  \n",
       "0  transaction_date_time\n",
       "2023-01-01     2508.20\n",
       "2...   8006.299321  "
      ]
     },
     "execution_count": 50,
     "metadata": {},
     "output_type": "execute_result"
    }
   ],
   "source": [
    "eval_df = append_eval_df(model_type = 'holts_weekly', \n",
    "                             target_var = by_week['transaction_total'])\n",
    "eval_df"
   ]
  },
  {
   "cell_type": "code",
   "execution_count": 51,
   "id": "ff441ee0-8f63-46e2-963c-91f44506e3e6",
   "metadata": {
    "tags": []
   },
   "outputs": [],
   "source": [
    "# MODEL 4 -- Holt's Linear Trend (Daily)"
   ]
  },
  {
   "cell_type": "code",
   "execution_count": 52,
   "id": "792459c6-1136-44b2-9e69-edc7d6078718",
   "metadata": {
    "tags": []
   },
   "outputs": [],
   "source": [
    "last_sales_2 = by_day['transaction_total'][-1:][0]\n",
    "\n",
    "yhat_df = pd.DataFrame(\n",
    "    {'transaction_total': [last_sales_2]},\n",
    "    index=by_day.index)"
   ]
  },
  {
   "cell_type": "code",
   "execution_count": 53,
   "id": "7b521eef-1814-46c4-9782-4d4ff4272c0b",
   "metadata": {
    "tags": []
   },
   "outputs": [
    {
     "data": {
      "text/html": [
       "<div>\n",
       "<style scoped>\n",
       "    .dataframe tbody tr th:only-of-type {\n",
       "        vertical-align: middle;\n",
       "    }\n",
       "\n",
       "    .dataframe tbody tr th {\n",
       "        vertical-align: top;\n",
       "    }\n",
       "\n",
       "    .dataframe thead th {\n",
       "        text-align: right;\n",
       "    }\n",
       "</style>\n",
       "<table border=\"1\" class=\"dataframe\">\n",
       "  <thead>\n",
       "    <tr style=\"text-align: right;\">\n",
       "      <th></th>\n",
       "      <th>transaction_total</th>\n",
       "    </tr>\n",
       "    <tr>\n",
       "      <th>transaction_date_time</th>\n",
       "      <th></th>\n",
       "    </tr>\n",
       "  </thead>\n",
       "  <tbody>\n",
       "    <tr>\n",
       "      <th>2023-01-01</th>\n",
       "      <td>2404.40</td>\n",
       "    </tr>\n",
       "    <tr>\n",
       "      <th>2023-01-02</th>\n",
       "      <td>2338.33</td>\n",
       "    </tr>\n",
       "    <tr>\n",
       "      <th>2023-01-03</th>\n",
       "      <td>2261.48</td>\n",
       "    </tr>\n",
       "    <tr>\n",
       "      <th>2023-01-04</th>\n",
       "      <td>2271.14</td>\n",
       "    </tr>\n",
       "    <tr>\n",
       "      <th>2023-01-05</th>\n",
       "      <td>2161.99</td>\n",
       "    </tr>\n",
       "  </tbody>\n",
       "</table>\n",
       "</div>"
      ],
      "text/plain": [
       "                       transaction_total\n",
       "transaction_date_time                   \n",
       "2023-01-01                       2404.40\n",
       "2023-01-02                       2338.33\n",
       "2023-01-03                       2261.48\n",
       "2023-01-04                       2271.14\n",
       "2023-01-05                       2161.99"
      ]
     },
     "execution_count": 53,
     "metadata": {},
     "output_type": "execute_result"
    }
   ],
   "source": [
    "model = Holt(by_day['transaction_total'], exponential=False, damped=True)\n",
    "model = model.fit(optimized=True)\n",
    "yhat_values = model.predict(start = by_week.index[0],     #Should I be using my test dataset here?\n",
    "                            end = by_week.index[-1])\n",
    "yhat_df['transaction_total'] = round(yhat_values, 2)\n",
    "\n",
    "yhat_df.head()"
   ]
  },
  {
   "cell_type": "code",
   "execution_count": 54,
   "id": "a0d9326c-46c7-4404-86a0-a3e5003f0cad",
   "metadata": {
    "tags": []
   },
   "outputs": [
    {
     "data": {
      "text/plain": [
       "541.4244188760282"
      ]
     },
     "execution_count": 54,
     "metadata": {},
     "output_type": "execute_result"
    }
   ],
   "source": [
    "target_var4 = by_day['transaction_total']\n",
    "evaluate(target_var4)"
   ]
  },
  {
   "cell_type": "code",
   "execution_count": 55,
   "id": "ff79c0e1-a3e1-453c-958f-a8a9e1a41d79",
   "metadata": {
    "tags": []
   },
   "outputs": [
    {
     "data": {
      "text/html": [
       "<div>\n",
       "<style scoped>\n",
       "    .dataframe tbody tr th:only-of-type {\n",
       "        vertical-align: middle;\n",
       "    }\n",
       "\n",
       "    .dataframe tbody tr th {\n",
       "        vertical-align: top;\n",
       "    }\n",
       "\n",
       "    .dataframe thead th {\n",
       "        text-align: right;\n",
       "    }\n",
       "</style>\n",
       "<table border=\"1\" class=\"dataframe\">\n",
       "  <thead>\n",
       "    <tr style=\"text-align: right;\">\n",
       "      <th></th>\n",
       "      <th>model_type</th>\n",
       "      <th>target_var</th>\n",
       "      <th>rmse</th>\n",
       "    </tr>\n",
       "  </thead>\n",
       "  <tbody>\n",
       "    <tr>\n",
       "      <th>0</th>\n",
       "      <td>last_observed_value_weekly</td>\n",
       "      <td>transaction_date_time\n",
       "2023-01-01     2508.20\n",
       "2...</td>\n",
       "      <td>17438.732056</td>\n",
       "    </tr>\n",
       "    <tr>\n",
       "      <th>0</th>\n",
       "      <td>last_observed_value_daily</td>\n",
       "      <td>transaction_date_time\n",
       "2023-01-01    2508.20\n",
       "20...</td>\n",
       "      <td>3198.641744</td>\n",
       "    </tr>\n",
       "    <tr>\n",
       "      <th>0</th>\n",
       "      <td>holts_weekly</td>\n",
       "      <td>transaction_date_time\n",
       "2023-01-01     2508.20\n",
       "2...</td>\n",
       "      <td>8006.299321</td>\n",
       "    </tr>\n",
       "    <tr>\n",
       "      <th>0</th>\n",
       "      <td>holts_daily</td>\n",
       "      <td>transaction_date_time\n",
       "2023-01-01    2508.20\n",
       "20...</td>\n",
       "      <td>541.424419</td>\n",
       "    </tr>\n",
       "  </tbody>\n",
       "</table>\n",
       "</div>"
      ],
      "text/plain": [
       "                   model_type  \\\n",
       "0  last_observed_value_weekly   \n",
       "0   last_observed_value_daily   \n",
       "0                holts_weekly   \n",
       "0                 holts_daily   \n",
       "\n",
       "                                          target_var          rmse  \n",
       "0  transaction_date_time\n",
       "2023-01-01     2508.20\n",
       "2...  17438.732056  \n",
       "0  transaction_date_time\n",
       "2023-01-01    2508.20\n",
       "20...   3198.641744  \n",
       "0  transaction_date_time\n",
       "2023-01-01     2508.20\n",
       "2...   8006.299321  \n",
       "0  transaction_date_time\n",
       "2023-01-01    2508.20\n",
       "20...    541.424419  "
      ]
     },
     "execution_count": 55,
     "metadata": {},
     "output_type": "execute_result"
    }
   ],
   "source": [
    "eval_df = append_eval_df(model_type = 'holts_daily', \n",
    "                             target_var = by_day['transaction_total'])\n",
    "eval_df"
   ]
  },
  {
   "cell_type": "code",
   "execution_count": 56,
   "id": "c1c9e9fd-efee-42ad-836d-0dbc878e1f26",
   "metadata": {
    "tags": []
   },
   "outputs": [
    {
     "name": "stdout",
     "output_type": "stream",
     "text": [
      "transaction_total -- RMSE: 541\n"
     ]
    },
    {
     "data": {
      "image/png": "[encoded data removed]",
      "text/plain": [
       "<Figure size 1200x400 with 1 Axes>"
      ]
     },
     "metadata": {},
     "output_type": "display_data"
    }
   ],
   "source": [
    "# Plot Actual vs. Predicted Values\n",
    "\n",
    "plt.figure(figsize = (12,4))\n",
    "plt.plot(by_day['transaction_total'], label = 'By Day', linewidth = 1)\n",
    "plt.plot(yhat_df['transaction_total'])\n",
    "plt.title('transaction_total')\n",
    "# rmse = by_week('transaction_total')\n",
    "rmse = sqrt(mean_squared_error(by_day['transaction_total'], yhat_df))\n",
    "print('transaction_total', '-- RMSE: {:.0f}'.format(rmse))\n",
    "plt.show()"
   ]
  },
  {
   "cell_type": "code",
   "execution_count": 57,
   "id": "6e1ee84d-274b-446c-9d51-1139d2704a75",
   "metadata": {
    "tags": []
   },
   "outputs": [],
   "source": [
    "# CONCLUSION: MODEL 4 -- Holt's Linear Trend (Daily) is the best predictor of average transaction_total."
   ]
  }
 ],
 "metadata": {
  "kernelspec": {
   "display_name": "Python 3 (ipykernel)",
   "language": "python",
   "name": "python3"
  },
  "language_info": {
   "codemirror_mode": {
    "name": "ipython",
    "version": 3
   },
   "file_extension": ".py",
   "mimetype": "text/x-python",
   "name": "python",
   "nbconvert_exporter": "python",
   "pygments_lexer": "ipython3",
   "version": "3.11.4"
  }
 },
 "nbformat": 4,
 "nbformat_minor": 5
}
